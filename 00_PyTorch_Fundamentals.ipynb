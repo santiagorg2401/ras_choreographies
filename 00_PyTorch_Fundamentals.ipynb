{
  "nbformat": 4,
  "nbformat_minor": 0,
  "metadata": {
    "colab": {
      "provenance": [],
      "collapsed_sections": [
        "fDunA21zNjia",
        "Os1RH3ZQSg8R",
        "ErqHbtENSmpf",
        "0D_7uYEb8x7b",
        "hU_xc3bJ9Jwj",
        "6MUVCMAODIOc",
        "CSsRQbo3DVgO",
        "UPdpwzfTDjo1",
        "bXlOFjm7EJi8",
        "Kw5d_9tW0kR8",
        "qhkF4srE6r-a",
        "LfD4ighCC3bH",
        "Pnre3bVhBxBG",
        "o2flUnGiVr_M",
        "oWibRoBzXsBG"
      ],
      "gpuType": "T4",
      "authorship_tag": "ABX9TyNKTcWrwp+A/tvAs8Wb/bkM",
      "include_colab_link": true
    },
    "kernelspec": {
      "name": "python3",
      "display_name": "Python 3"
    },
    "language_info": {
      "name": "python"
    },
    "accelerator": "GPU"
  },
  "cells": [
    {
      "cell_type": "markdown",
      "metadata": {
        "id": "view-in-github",
        "colab_type": "text"
      },
      "source": [
        "<a href=\"https://colab.research.google.com/github/santiagorg2401/ras_choreographies/blob/main/00_PyTorch_Fundamentals.ipynb\" target=\"_parent\"><img src=\"https://colab.research.google.com/assets/colab-badge.svg\" alt=\"Open In Colab\"/></a>"
      ]
    },
    {
      "cell_type": "markdown",
      "source": [
        "# 0. PyTorch Fundamentals\n"
      ],
      "metadata": {
        "id": "3p1HE_mTKw31"
      }
    },
    {
      "cell_type": "code",
      "source": [
        "import torch\n",
        "print(torch.__version__)"
      ],
      "metadata": {
        "colab": {
          "base_uri": "https://localhost:8080/"
        },
        "id": "e-XwnrZdMov9",
        "outputId": "af46fad9-9b94-4d34-ddc9-a668704f334f"
      },
      "execution_count": 1,
      "outputs": [
        {
          "output_type": "stream",
          "name": "stdout",
          "text": [
            "2.0.1+cu118\n"
          ]
        }
      ]
    },
    {
      "cell_type": "markdown",
      "source": [
        "## 1. Tensors\n",
        "Tensors are a form of data representation."
      ],
      "metadata": {
        "id": "fDunA21zNjia"
      }
    },
    {
      "cell_type": "markdown",
      "source": [
        "### Scalars, vectors, matrices and tensors\n",
        "* For nomenclature, matrices and Tensors are typed in uppercase whereas vectors in lowecase."
      ],
      "metadata": {
        "id": "Os1RH3ZQSg8R"
      }
    },
    {
      "cell_type": "code",
      "source": [
        "# Scalar\n",
        "scalar = torch.tensor(7)\n",
        "scalar, scalar.ndim, scalar.item()"
      ],
      "metadata": {
        "colab": {
          "base_uri": "https://localhost:8080/"
        },
        "id": "jGYfFnVqNmTX",
        "outputId": "e8a6439a-d7d0-4f6a-fe2f-f98ce66af1f8"
      },
      "execution_count": 2,
      "outputs": [
        {
          "output_type": "execute_result",
          "data": {
            "text/plain": [
              "(tensor(7), 0, 7)"
            ]
          },
          "metadata": {},
          "execution_count": 2
        }
      ]
    },
    {
      "cell_type": "code",
      "source": [
        "# Vector\n",
        "vector = torch.tensor([7, 7])\n",
        "vector, vector.ndim, vector.shape"
      ],
      "metadata": {
        "colab": {
          "base_uri": "https://localhost:8080/"
        },
        "id": "-J5X7su8OsMe",
        "outputId": "7542a477-bc24-468e-a738-024925f7e85a"
      },
      "execution_count": 3,
      "outputs": [
        {
          "output_type": "execute_result",
          "data": {
            "text/plain": [
              "(tensor([7, 7]), 1, torch.Size([2]))"
            ]
          },
          "metadata": {},
          "execution_count": 3
        }
      ]
    },
    {
      "cell_type": "code",
      "source": [
        "# Matrix\n",
        "MATRIX = torch.tensor([[7, 8],\n",
        "                       [9, 9]])\n",
        "MATRIX, MATRIX.ndim, MATRIX.shape"
      ],
      "metadata": {
        "colab": {
          "base_uri": "https://localhost:8080/"
        },
        "id": "yZFOhIIKPIbW",
        "outputId": "d731ec2a-a813-44b9-8b5d-6e354c342281"
      },
      "execution_count": 4,
      "outputs": [
        {
          "output_type": "execute_result",
          "data": {
            "text/plain": [
              "(tensor([[7, 8],\n",
              "         [9, 9]]),\n",
              " 2,\n",
              " torch.Size([2, 2]))"
            ]
          },
          "metadata": {},
          "execution_count": 4
        }
      ]
    },
    {
      "cell_type": "code",
      "source": [
        "# Tensor\n",
        "TENSOR = torch.tensor([[[1, 2],\n",
        "                        [3, 4],\n",
        "                        [5, 6]]])\n",
        "TENSOR, TENSOR.ndim, TENSOR.shape"
      ],
      "metadata": {
        "colab": {
          "base_uri": "https://localhost:8080/"
        },
        "id": "mhlOlrDFPo5e",
        "outputId": "ed4b531e-48a0-4923-810a-6639bcdbe83f"
      },
      "execution_count": 5,
      "outputs": [
        {
          "output_type": "execute_result",
          "data": {
            "text/plain": [
              "(tensor([[[1, 2],\n",
              "          [3, 4],\n",
              "          [5, 6]]]),\n",
              " 3,\n",
              " torch.Size([1, 3, 2]))"
            ]
          },
          "metadata": {},
          "execution_count": 5
        }
      ]
    },
    {
      "cell_type": "markdown",
      "source": [
        "### Random tensors"
      ],
      "metadata": {
        "id": "ErqHbtENSmpf"
      }
    },
    {
      "cell_type": "code",
      "source": [
        "# Random tensor\n",
        "random_tensor = torch.rand(3, 4)\n",
        "random_tensor, random_tensor.ndim, random_tensor.shape"
      ],
      "metadata": {
        "colab": {
          "base_uri": "https://localhost:8080/"
        },
        "id": "YNCTfrZsSpXY",
        "outputId": "d794b829-c4f3-4b6a-881f-8e02db138b05"
      },
      "execution_count": 6,
      "outputs": [
        {
          "output_type": "execute_result",
          "data": {
            "text/plain": [
              "(tensor([[0.9440, 0.4947, 0.4366, 0.7148],\n",
              "         [0.6651, 0.1917, 0.1155, 0.2216],\n",
              "         [0.6853, 0.4766, 0.2882, 0.7570]]),\n",
              " 2,\n",
              " torch.Size([3, 4]))"
            ]
          },
          "metadata": {},
          "execution_count": 6
        }
      ]
    },
    {
      "cell_type": "code",
      "source": [
        "# Random tensor with similar shape to an image tensor.\n",
        "random_image = torch.rand((224, 224, 3))\n",
        "random_image[:2], random_image.ndim, random_image.shape"
      ],
      "metadata": {
        "colab": {
          "base_uri": "https://localhost:8080/"
        },
        "id": "FDmxk236TYOq",
        "outputId": "88d78601-7669-42f9-9de7-f7c41f9b1070"
      },
      "execution_count": 7,
      "outputs": [
        {
          "output_type": "execute_result",
          "data": {
            "text/plain": [
              "(tensor([[[4.3716e-01, 6.9632e-01, 8.4808e-01],\n",
              "          [2.0639e-01, 2.2194e-01, 7.0791e-01],\n",
              "          [2.1622e-01, 8.2207e-04, 6.0048e-01],\n",
              "          ...,\n",
              "          [8.8643e-01, 8.2345e-01, 2.5463e-01],\n",
              "          [3.6090e-01, 6.5855e-01, 4.7082e-01],\n",
              "          [5.3820e-01, 6.7138e-01, 9.4068e-01]],\n",
              " \n",
              "         [[7.6728e-01, 9.7625e-01, 2.9693e-01],\n",
              "          [2.3855e-01, 6.7107e-01, 2.1200e-01],\n",
              "          [8.1651e-01, 5.3214e-01, 9.0821e-01],\n",
              "          ...,\n",
              "          [1.2709e-01, 9.8254e-01, 9.7316e-01],\n",
              "          [7.3888e-01, 3.1553e-01, 3.1092e-02],\n",
              "          [8.7403e-01, 1.3174e-01, 5.4789e-01]]]),\n",
              " 3,\n",
              " torch.Size([224, 224, 3]))"
            ]
          },
          "metadata": {},
          "execution_count": 7
        }
      ]
    },
    {
      "cell_type": "markdown",
      "source": [
        "### Zeros and ones"
      ],
      "metadata": {
        "id": "0D_7uYEb8x7b"
      }
    },
    {
      "cell_type": "code",
      "source": [
        "zeros = torch.zeros(size=(3,4))\n",
        "zeros"
      ],
      "metadata": {
        "colab": {
          "base_uri": "https://localhost:8080/"
        },
        "id": "3ycVi5wL8zWE",
        "outputId": "e4611f36-1f9d-4d8e-b298-6f5d3428fdc1"
      },
      "execution_count": 8,
      "outputs": [
        {
          "output_type": "execute_result",
          "data": {
            "text/plain": [
              "tensor([[0., 0., 0., 0.],\n",
              "        [0., 0., 0., 0.],\n",
              "        [0., 0., 0., 0.]])"
            ]
          },
          "metadata": {},
          "execution_count": 8
        }
      ]
    },
    {
      "cell_type": "code",
      "source": [
        "ones = torch.ones((3, 4))\n",
        "ones"
      ],
      "metadata": {
        "colab": {
          "base_uri": "https://localhost:8080/"
        },
        "id": "0HYQY-x484BL",
        "outputId": "6cbc4d5a-8884-4b4f-dc4c-026ecd6a3763"
      },
      "execution_count": 9,
      "outputs": [
        {
          "output_type": "execute_result",
          "data": {
            "text/plain": [
              "tensor([[1., 1., 1., 1.],\n",
              "        [1., 1., 1., 1.],\n",
              "        [1., 1., 1., 1.]])"
            ]
          },
          "metadata": {},
          "execution_count": 9
        }
      ]
    },
    {
      "cell_type": "code",
      "source": [
        "zeros.dtype, ones.dtype"
      ],
      "metadata": {
        "colab": {
          "base_uri": "https://localhost:8080/"
        },
        "id": "Jqj8Ml8n872Z",
        "outputId": "b80d0845-30a1-4abf-c05e-6dcf58d29adf"
      },
      "execution_count": 10,
      "outputs": [
        {
          "output_type": "execute_result",
          "data": {
            "text/plain": [
              "(torch.float32, torch.float32)"
            ]
          },
          "metadata": {},
          "execution_count": 10
        }
      ]
    },
    {
      "cell_type": "markdown",
      "source": [
        "### Range of tensors and tensors-like"
      ],
      "metadata": {
        "id": "hU_xc3bJ9Jwj"
      }
    },
    {
      "cell_type": "code",
      "source": [
        "range = torch.arange(0, 10)\n",
        "range, range.shape"
      ],
      "metadata": {
        "colab": {
          "base_uri": "https://localhost:8080/"
        },
        "id": "qHfTUUXM9M-F",
        "outputId": "7433f9e1-b7ea-41f1-85ae-5c3efb8a20b9"
      },
      "execution_count": 11,
      "outputs": [
        {
          "output_type": "execute_result",
          "data": {
            "text/plain": [
              "(tensor([0, 1, 2, 3, 4, 5, 6, 7, 8, 9]), torch.Size([10]))"
            ]
          },
          "metadata": {},
          "execution_count": 11
        }
      ]
    },
    {
      "cell_type": "code",
      "source": [
        "range2 = torch.arange(start=0, end=100, step=20)\n",
        "range2"
      ],
      "metadata": {
        "colab": {
          "base_uri": "https://localhost:8080/"
        },
        "id": "BsCjuBjq9m0Y",
        "outputId": "eaa33bc6-eb70-4613-a49b-0765a72363ab"
      },
      "execution_count": 12,
      "outputs": [
        {
          "output_type": "execute_result",
          "data": {
            "text/plain": [
              "tensor([ 0, 20, 40, 60, 80])"
            ]
          },
          "metadata": {},
          "execution_count": 12
        }
      ]
    },
    {
      "cell_type": "code",
      "source": [
        "tensor_like = torch.zeros_like(range)\n",
        "tensor_like, tensor_like.shape"
      ],
      "metadata": {
        "colab": {
          "base_uri": "https://localhost:8080/"
        },
        "id": "u0SEo5O69whC",
        "outputId": "fc3f972c-3423-4d42-c973-e0bba39ed49f"
      },
      "execution_count": 13,
      "outputs": [
        {
          "output_type": "execute_result",
          "data": {
            "text/plain": [
              "(tensor([0, 0, 0, 0, 0, 0, 0, 0, 0, 0]), torch.Size([10]))"
            ]
          },
          "metadata": {},
          "execution_count": 13
        }
      ]
    },
    {
      "cell_type": "markdown",
      "source": [
        "## 2. Getting information from tensors.\n",
        "Most common errors are about type, shape and device."
      ],
      "metadata": {
        "id": "AKdWA_EN-qPI"
      }
    },
    {
      "cell_type": "markdown",
      "source": [
        "### Tensor datatypes\n",
        "The default datatype in PyTorch is float32. Generally, operations between tensors with different types will error."
      ],
      "metadata": {
        "id": "6MUVCMAODIOc"
      }
    },
    {
      "cell_type": "code",
      "source": [
        "tensor = torch.tensor([3.0, 6.0, 9.0],\n",
        "                      dtype=None,\n",
        "                      device=None,\n",
        "                      requires_grad=False)\n",
        "tensor, tensor.dtype"
      ],
      "metadata": {
        "colab": {
          "base_uri": "https://localhost:8080/"
        },
        "id": "Qw7iLM4l-s9S",
        "outputId": "97b5d9da-9104-4142-e867-d9cd24451950"
      },
      "execution_count": 14,
      "outputs": [
        {
          "output_type": "execute_result",
          "data": {
            "text/plain": [
              "(tensor([3., 6., 9.]), torch.float32)"
            ]
          },
          "metadata": {},
          "execution_count": 14
        }
      ]
    },
    {
      "cell_type": "code",
      "source": [
        "tensor2 = tensor.type(torch.float16)\n",
        "tensor2"
      ],
      "metadata": {
        "colab": {
          "base_uri": "https://localhost:8080/"
        },
        "id": "CGc3FmvwASE_",
        "outputId": "f4e73206-d622-49b9-f26a-6952eb1f8822"
      },
      "execution_count": 15,
      "outputs": [
        {
          "output_type": "execute_result",
          "data": {
            "text/plain": [
              "tensor([3., 6., 9.], dtype=torch.float16)"
            ]
          },
          "metadata": {},
          "execution_count": 15
        }
      ]
    },
    {
      "cell_type": "code",
      "source": [
        "tensor3 = tensor * tensor2\n",
        "tensor3, tensor3.dtype"
      ],
      "metadata": {
        "colab": {
          "base_uri": "https://localhost:8080/"
        },
        "id": "RFx1IaAmB0j1",
        "outputId": "decc72a1-fd97-4816-ab06-36d20734e11c"
      },
      "execution_count": 16,
      "outputs": [
        {
          "output_type": "execute_result",
          "data": {
            "text/plain": [
              "(tensor([ 9., 36., 81.]), torch.float32)"
            ]
          },
          "metadata": {},
          "execution_count": 16
        }
      ]
    },
    {
      "cell_type": "code",
      "source": [
        "torch.tensor([1,2,3], dtype=torch.int32) * tensor"
      ],
      "metadata": {
        "colab": {
          "base_uri": "https://localhost:8080/"
        },
        "id": "P_fNldMsCHVt",
        "outputId": "8c78f3a9-4e38-4306-a66d-a6f72826d435"
      },
      "execution_count": 17,
      "outputs": [
        {
          "output_type": "execute_result",
          "data": {
            "text/plain": [
              "tensor([ 3., 12., 27.])"
            ]
          },
          "metadata": {},
          "execution_count": 17
        }
      ]
    },
    {
      "cell_type": "markdown",
      "source": [
        "### Tensor shape"
      ],
      "metadata": {
        "id": "CSsRQbo3DVgO"
      }
    },
    {
      "cell_type": "code",
      "source": [
        "tensor.shape, tensor.size()"
      ],
      "metadata": {
        "colab": {
          "base_uri": "https://localhost:8080/"
        },
        "id": "AzhecgZTDavz",
        "outputId": "ab98ecea-8fa3-473a-b5af-11d7514c8623"
      },
      "execution_count": 18,
      "outputs": [
        {
          "output_type": "execute_result",
          "data": {
            "text/plain": [
              "(torch.Size([3]), torch.Size([3]))"
            ]
          },
          "metadata": {},
          "execution_count": 18
        }
      ]
    },
    {
      "cell_type": "markdown",
      "source": [
        "### Tensor device\n",
        "By default, tensors are stored in CPU"
      ],
      "metadata": {
        "id": "UPdpwzfTDjo1"
      }
    },
    {
      "cell_type": "code",
      "source": [
        "tensor.device"
      ],
      "metadata": {
        "colab": {
          "base_uri": "https://localhost:8080/"
        },
        "id": "9r6qbPamDlhD",
        "outputId": "92b7dac2-4123-4381-e6f3-ca06dbf4b3a1"
      },
      "execution_count": 19,
      "outputs": [
        {
          "output_type": "execute_result",
          "data": {
            "text/plain": [
              "device(type='cpu')"
            ]
          },
          "metadata": {},
          "execution_count": 19
        }
      ]
    },
    {
      "cell_type": "markdown",
      "source": [
        "## 3. Tensor operations\n",
        "* Addtion\n",
        "* Subtraction\n",
        "* Multiplication\n",
        "* Division\n",
        "* Matrix multiplication"
      ],
      "metadata": {
        "id": "bXlOFjm7EJi8"
      }
    },
    {
      "cell_type": "code",
      "source": [
        "# Addition\n",
        "X = torch.tensor([[1, 2, 3],\n",
        "                  [4, 5, 6]])\n",
        "X + 10, torch.add(X, 10)"
      ],
      "metadata": {
        "colab": {
          "base_uri": "https://localhost:8080/"
        },
        "id": "NtV6XfqkEYli",
        "outputId": "9021fbf0-99cc-4691-ceb8-d081795f58a9"
      },
      "execution_count": 20,
      "outputs": [
        {
          "output_type": "execute_result",
          "data": {
            "text/plain": [
              "(tensor([[11, 12, 13],\n",
              "         [14, 15, 16]]),\n",
              " tensor([[11, 12, 13],\n",
              "         [14, 15, 16]]))"
            ]
          },
          "metadata": {},
          "execution_count": 20
        }
      ]
    },
    {
      "cell_type": "code",
      "source": [
        "# Subtraction\n",
        "X - 10, torch.sub(X, 10)"
      ],
      "metadata": {
        "colab": {
          "base_uri": "https://localhost:8080/"
        },
        "id": "cNDIUz2ZEqXr",
        "outputId": "e7683285-982c-4d7b-9f4c-adfcbc05c0fe"
      },
      "execution_count": 21,
      "outputs": [
        {
          "output_type": "execute_result",
          "data": {
            "text/plain": [
              "(tensor([[-9, -8, -7],\n",
              "         [-6, -5, -4]]),\n",
              " tensor([[-9, -8, -7],\n",
              "         [-6, -5, -4]]))"
            ]
          },
          "metadata": {},
          "execution_count": 21
        }
      ]
    },
    {
      "cell_type": "code",
      "source": [
        "# Multiplication\n",
        "X * 10, torch.mul(X, 10)"
      ],
      "metadata": {
        "colab": {
          "base_uri": "https://localhost:8080/"
        },
        "id": "jdFf2aqWEwTL",
        "outputId": "e198f804-dc23-4379-f303-914a6230cc8f"
      },
      "execution_count": 22,
      "outputs": [
        {
          "output_type": "execute_result",
          "data": {
            "text/plain": [
              "(tensor([[10, 20, 30],\n",
              "         [40, 50, 60]]),\n",
              " tensor([[10, 20, 30],\n",
              "         [40, 50, 60]]))"
            ]
          },
          "metadata": {},
          "execution_count": 22
        }
      ]
    },
    {
      "cell_type": "code",
      "source": [
        "# Division\n",
        "X / 10, torch.div(X, 10)"
      ],
      "metadata": {
        "colab": {
          "base_uri": "https://localhost:8080/"
        },
        "id": "4eUOaQVvEyOz",
        "outputId": "3137c967-0b24-4228-9d4d-24dba57838c1"
      },
      "execution_count": 23,
      "outputs": [
        {
          "output_type": "execute_result",
          "data": {
            "text/plain": [
              "(tensor([[0.1000, 0.2000, 0.3000],\n",
              "         [0.4000, 0.5000, 0.6000]]),\n",
              " tensor([[0.1000, 0.2000, 0.3000],\n",
              "         [0.4000, 0.5000, 0.6000]]))"
            ]
          },
          "metadata": {},
          "execution_count": 23
        }
      ]
    },
    {
      "cell_type": "code",
      "source": [
        "# Matrix multiplication (element-wise)\n",
        "y = torch.tensor([[7, 8 ,9],\n",
        "                  [10, 11, 12]])\n",
        "X * y, torch.mul(X, y)"
      ],
      "metadata": {
        "id": "bCTw6T6mEy8P",
        "colab": {
          "base_uri": "https://localhost:8080/"
        },
        "outputId": "8b0bffb9-32e3-4b2f-f37a-a204a318eaa4"
      },
      "execution_count": 24,
      "outputs": [
        {
          "output_type": "execute_result",
          "data": {
            "text/plain": [
              "(tensor([[ 7, 16, 27],\n",
              "         [40, 55, 72]]),\n",
              " tensor([[ 7, 16, 27],\n",
              "         [40, 55, 72]]))"
            ]
          },
          "metadata": {},
          "execution_count": 24
        }
      ]
    },
    {
      "cell_type": "code",
      "source": [
        "# Matrix multiplication\n",
        "X @ torch.transpose(y, 0, 1), torch.matmul(X, torch.transpose(y, 0, 1))"
      ],
      "metadata": {
        "colab": {
          "base_uri": "https://localhost:8080/"
        },
        "id": "6Kp8Kdxorb58",
        "outputId": "291f7c22-ca44-48ee-c9d6-1252bd074f3a"
      },
      "execution_count": 25,
      "outputs": [
        {
          "output_type": "execute_result",
          "data": {
            "text/plain": [
              "(tensor([[ 50,  68],\n",
              "         [122, 167]]),\n",
              " tensor([[ 50,  68],\n",
              "         [122, 167]]))"
            ]
          },
          "metadata": {},
          "execution_count": 25
        }
      ]
    },
    {
      "cell_type": "markdown",
      "source": [
        "## 4. Common errors"
      ],
      "metadata": {
        "id": "Kw5d_9tW0kR8"
      }
    },
    {
      "cell_type": "code",
      "source": [
        "# Inner dimensions must match\n",
        "try:\n",
        "  torch.matmul(torch.rand(3, 2), torch.rand(3, 2))\n",
        "except Exception as e:\n",
        "  print(e)"
      ],
      "metadata": {
        "colab": {
          "base_uri": "https://localhost:8080/"
        },
        "id": "Zt2TENHE00RX",
        "outputId": "ef0a6929-ea06-4ac6-b2d5-58356462e374"
      },
      "execution_count": 26,
      "outputs": [
        {
          "output_type": "stream",
          "name": "stdout",
          "text": [
            "mat1 and mat2 shapes cannot be multiplied (3x2 and 3x2)\n"
          ]
        }
      ]
    },
    {
      "cell_type": "markdown",
      "source": [
        "## 5. Tensor aggregation"
      ],
      "metadata": {
        "id": "qhkF4srE6r-a"
      }
    },
    {
      "cell_type": "code",
      "source": [
        "x = torch.arange(0, 100, 10)"
      ],
      "metadata": {
        "id": "3DWd6tX46tzA"
      },
      "execution_count": 27,
      "outputs": []
    },
    {
      "cell_type": "code",
      "source": [
        "# min\n",
        "torch.min(x), x.min()"
      ],
      "metadata": {
        "colab": {
          "base_uri": "https://localhost:8080/"
        },
        "id": "S58r_BAK6wkq",
        "outputId": "f106b5dd-27c8-45f5-8d52-a938dafbe46d"
      },
      "execution_count": 28,
      "outputs": [
        {
          "output_type": "execute_result",
          "data": {
            "text/plain": [
              "(tensor(0), tensor(0))"
            ]
          },
          "metadata": {},
          "execution_count": 28
        }
      ]
    },
    {
      "cell_type": "code",
      "source": [
        "# max\n",
        "torch.max(x), x.max()"
      ],
      "metadata": {
        "colab": {
          "base_uri": "https://localhost:8080/"
        },
        "id": "CCOqF6f265xa",
        "outputId": "6b5fb2f6-7953-44c9-d652-ce33af6e4965"
      },
      "execution_count": 29,
      "outputs": [
        {
          "output_type": "execute_result",
          "data": {
            "text/plain": [
              "(tensor(90), tensor(90))"
            ]
          },
          "metadata": {},
          "execution_count": 29
        }
      ]
    },
    {
      "cell_type": "code",
      "source": [
        "# mean. mean requires float32 datatype.\n",
        "torch.mean(x.type(torch.float32)), x.type(torch.float32).mean()"
      ],
      "metadata": {
        "colab": {
          "base_uri": "https://localhost:8080/"
        },
        "id": "Jkc6Zm4368m6",
        "outputId": "7724666b-0dae-4dfd-c736-0c891e7f1759"
      },
      "execution_count": 30,
      "outputs": [
        {
          "output_type": "execute_result",
          "data": {
            "text/plain": [
              "(tensor(45.), tensor(45.))"
            ]
          },
          "metadata": {},
          "execution_count": 30
        }
      ]
    },
    {
      "cell_type": "code",
      "source": [
        "# sum\n",
        "torch.sum(x), x.sum()"
      ],
      "metadata": {
        "colab": {
          "base_uri": "https://localhost:8080/"
        },
        "id": "v8MDo1uh7z87",
        "outputId": "dda228cd-b271-4b73-d494-ce45846c7dc2"
      },
      "execution_count": 31,
      "outputs": [
        {
          "output_type": "execute_result",
          "data": {
            "text/plain": [
              "(tensor(450), tensor(450))"
            ]
          },
          "metadata": {},
          "execution_count": 31
        }
      ]
    },
    {
      "cell_type": "code",
      "source": [
        "# argmin (positional min)\n",
        "torch.argmin(x), x.argmin()"
      ],
      "metadata": {
        "colab": {
          "base_uri": "https://localhost:8080/"
        },
        "id": "OkS_NnNz75wm",
        "outputId": "40819698-38a6-4fec-bcd3-1e6b90b6dabe"
      },
      "execution_count": 32,
      "outputs": [
        {
          "output_type": "execute_result",
          "data": {
            "text/plain": [
              "(tensor(0), tensor(0))"
            ]
          },
          "metadata": {},
          "execution_count": 32
        }
      ]
    },
    {
      "cell_type": "code",
      "source": [
        "# argmax (positional max)\n",
        "torch.argmax(x), x.argmax()"
      ],
      "metadata": {
        "colab": {
          "base_uri": "https://localhost:8080/"
        },
        "id": "-HC7i9gC8BZE",
        "outputId": "b1594f07-cbf2-4dac-b8ef-8fffc7eca94b"
      },
      "execution_count": 33,
      "outputs": [
        {
          "output_type": "execute_result",
          "data": {
            "text/plain": [
              "(tensor(9), tensor(9))"
            ]
          },
          "metadata": {},
          "execution_count": 33
        }
      ]
    },
    {
      "cell_type": "markdown",
      "source": [
        "## 6. Reshaping, stacking, squeezing and unsqueezing"
      ],
      "metadata": {
        "id": "LfD4ighCC3bH"
      }
    },
    {
      "cell_type": "code",
      "source": [
        "x  = torch.arange(1., 10.)\n",
        "x, x.shape"
      ],
      "metadata": {
        "colab": {
          "base_uri": "https://localhost:8080/"
        },
        "id": "RbVGZjGRC9tC",
        "outputId": "290205a0-2843-46a4-ace5-074dca15c34f"
      },
      "execution_count": 34,
      "outputs": [
        {
          "output_type": "execute_result",
          "data": {
            "text/plain": [
              "(tensor([1., 2., 3., 4., 5., 6., 7., 8., 9.]), torch.Size([9]))"
            ]
          },
          "metadata": {},
          "execution_count": 34
        }
      ]
    },
    {
      "cell_type": "code",
      "source": [
        "# Reshaping\n",
        "try:\n",
        "  y = x.reshape(1, 7)\n",
        "except Exception as e:\n",
        "  print(e)\n",
        "\n",
        "y = x.reshape(1, 9)\n",
        "y, y.shape"
      ],
      "metadata": {
        "colab": {
          "base_uri": "https://localhost:8080/"
        },
        "id": "YnxkwQaP5ZYb",
        "outputId": "2e318834-1835-45a7-f8fd-a4d59a591c57"
      },
      "execution_count": 35,
      "outputs": [
        {
          "output_type": "stream",
          "name": "stdout",
          "text": [
            "shape '[1, 7]' is invalid for input of size 9\n"
          ]
        },
        {
          "output_type": "execute_result",
          "data": {
            "text/plain": [
              "(tensor([[1., 2., 3., 4., 5., 6., 7., 8., 9.]]), torch.Size([1, 9]))"
            ]
          },
          "metadata": {},
          "execution_count": 35
        }
      ]
    },
    {
      "cell_type": "code",
      "source": [
        "# Change the view\n",
        "z = x.view(1, 9)\n",
        "z, z.shape"
      ],
      "metadata": {
        "colab": {
          "base_uri": "https://localhost:8080/"
        },
        "id": "ABXHH1676KWM",
        "outputId": "b2256a95-e165-40cb-dc2e-a8b2b803687d"
      },
      "execution_count": 36,
      "outputs": [
        {
          "output_type": "execute_result",
          "data": {
            "text/plain": [
              "(tensor([[1., 2., 3., 4., 5., 6., 7., 8., 9.]]), torch.Size([1, 9]))"
            ]
          },
          "metadata": {},
          "execution_count": 36
        }
      ]
    },
    {
      "cell_type": "code",
      "source": [
        "# Changing z changes x as it shares memory\n",
        "z[:, 0] = 5\n",
        "z, x"
      ],
      "metadata": {
        "colab": {
          "base_uri": "https://localhost:8080/"
        },
        "id": "_i54QhYL7QUy",
        "outputId": "46664ad3-6584-451b-9bc4-770944c9a097"
      },
      "execution_count": 37,
      "outputs": [
        {
          "output_type": "execute_result",
          "data": {
            "text/plain": [
              "(tensor([[5., 2., 3., 4., 5., 6., 7., 8., 9.]]),\n",
              " tensor([5., 2., 3., 4., 5., 6., 7., 8., 9.]))"
            ]
          },
          "metadata": {},
          "execution_count": 37
        }
      ]
    },
    {
      "cell_type": "code",
      "source": [
        "# Stack\n",
        "z = torch.stack([x, x, x, x])\n",
        "w = torch.stack([x, x, x, x], dim=1)\n",
        "z, w"
      ],
      "metadata": {
        "colab": {
          "base_uri": "https://localhost:8080/"
        },
        "id": "EYh3POHf7Z42",
        "outputId": "138d7724-7631-41c8-d1c0-a4da24f234c0"
      },
      "execution_count": 38,
      "outputs": [
        {
          "output_type": "execute_result",
          "data": {
            "text/plain": [
              "(tensor([[5., 2., 3., 4., 5., 6., 7., 8., 9.],\n",
              "         [5., 2., 3., 4., 5., 6., 7., 8., 9.],\n",
              "         [5., 2., 3., 4., 5., 6., 7., 8., 9.],\n",
              "         [5., 2., 3., 4., 5., 6., 7., 8., 9.]]),\n",
              " tensor([[5., 5., 5., 5.],\n",
              "         [2., 2., 2., 2.],\n",
              "         [3., 3., 3., 3.],\n",
              "         [4., 4., 4., 4.],\n",
              "         [5., 5., 5., 5.],\n",
              "         [6., 6., 6., 6.],\n",
              "         [7., 7., 7., 7.],\n",
              "         [8., 8., 8., 8.],\n",
              "         [9., 9., 9., 9.]]))"
            ]
          },
          "metadata": {},
          "execution_count": 38
        }
      ]
    },
    {
      "cell_type": "code",
      "source": [
        "# Squeeze\n",
        "x = torch.zeros(1, 2, 3)\n",
        "y = torch.squeeze(x)\n",
        "x, x.shape, y, y.shape"
      ],
      "metadata": {
        "colab": {
          "base_uri": "https://localhost:8080/"
        },
        "id": "6NboQ6--8ayY",
        "outputId": "a153fa8d-ba29-4c39-89f2-a13cb169b529"
      },
      "execution_count": 39,
      "outputs": [
        {
          "output_type": "execute_result",
          "data": {
            "text/plain": [
              "(tensor([[[0., 0., 0.],\n",
              "          [0., 0., 0.]]]),\n",
              " torch.Size([1, 2, 3]),\n",
              " tensor([[0., 0., 0.],\n",
              "         [0., 0., 0.]]),\n",
              " torch.Size([2, 3]))"
            ]
          },
          "metadata": {},
          "execution_count": 39
        }
      ]
    },
    {
      "cell_type": "code",
      "source": [
        "# Unsqueeze\n",
        "y = torch.unsqueeze(y, dim=0)\n",
        "y, y.shape"
      ],
      "metadata": {
        "colab": {
          "base_uri": "https://localhost:8080/"
        },
        "id": "P9VpIppZ9hz9",
        "outputId": "699e2ad4-3b58-4e31-f7a9-e49192a5e1c3"
      },
      "execution_count": 40,
      "outputs": [
        {
          "output_type": "execute_result",
          "data": {
            "text/plain": [
              "(tensor([[[0., 0., 0.],\n",
              "          [0., 0., 0.]]]),\n",
              " torch.Size([1, 2, 3]))"
            ]
          },
          "metadata": {},
          "execution_count": 40
        }
      ]
    },
    {
      "cell_type": "code",
      "source": [
        "# Permute - \"reorder\". A permute is also a view, then it shares the same space of memory\n",
        "y = torch.permute(x, (2, 1, 0))\n",
        "x, x.shape, y, y.shape"
      ],
      "metadata": {
        "colab": {
          "base_uri": "https://localhost:8080/"
        },
        "id": "iwJ7wi7q-XMd",
        "outputId": "322a1f3d-99ae-4655-d682-bf9fa664448e"
      },
      "execution_count": 41,
      "outputs": [
        {
          "output_type": "execute_result",
          "data": {
            "text/plain": [
              "(tensor([[[0., 0., 0.],\n",
              "          [0., 0., 0.]]]),\n",
              " torch.Size([1, 2, 3]),\n",
              " tensor([[[0.],\n",
              "          [0.]],\n",
              " \n",
              "         [[0.],\n",
              "          [0.]],\n",
              " \n",
              "         [[0.],\n",
              "          [0.]]]),\n",
              " torch.Size([3, 2, 1]))"
            ]
          },
          "metadata": {},
          "execution_count": 41
        }
      ]
    },
    {
      "cell_type": "markdown",
      "source": [
        "## 7. Indexing"
      ],
      "metadata": {
        "id": "Pnre3bVhBxBG"
      }
    },
    {
      "cell_type": "code",
      "source": [
        "x = torch.arange(1, 10).reshape(1, 3, 3)\n",
        "x, x.shape"
      ],
      "metadata": {
        "colab": {
          "base_uri": "https://localhost:8080/"
        },
        "id": "kFooWHmqB1oy",
        "outputId": "6042e2b6-1a64-4a91-94d8-533343784253"
      },
      "execution_count": 42,
      "outputs": [
        {
          "output_type": "execute_result",
          "data": {
            "text/plain": [
              "(tensor([[[1, 2, 3],\n",
              "          [4, 5, 6],\n",
              "          [7, 8, 9]]]),\n",
              " torch.Size([1, 3, 3]))"
            ]
          },
          "metadata": {},
          "execution_count": 42
        }
      ]
    },
    {
      "cell_type": "code",
      "source": [
        "# Index 0th dimension\n",
        "x[0]"
      ],
      "metadata": {
        "colab": {
          "base_uri": "https://localhost:8080/"
        },
        "id": "lq2pl-qYB8re",
        "outputId": "d93dd885-ae64-4f8e-e651-5d129af61bc2"
      },
      "execution_count": 43,
      "outputs": [
        {
          "output_type": "execute_result",
          "data": {
            "text/plain": [
              "tensor([[1, 2, 3],\n",
              "        [4, 5, 6],\n",
              "        [7, 8, 9]])"
            ]
          },
          "metadata": {},
          "execution_count": 43
        }
      ]
    },
    {
      "cell_type": "code",
      "source": [
        "# Index 1st dimension\n",
        "x[0, 0], x[0][0]"
      ],
      "metadata": {
        "colab": {
          "base_uri": "https://localhost:8080/"
        },
        "id": "kFo7tpUlCEVl",
        "outputId": "10337167-4ecd-4920-ec1a-589a0e784bcb"
      },
      "execution_count": 44,
      "outputs": [
        {
          "output_type": "execute_result",
          "data": {
            "text/plain": [
              "(tensor([1, 2, 3]), tensor([1, 2, 3]))"
            ]
          },
          "metadata": {},
          "execution_count": 44
        }
      ]
    },
    {
      "cell_type": "code",
      "source": [
        "# Index 2nd dimension\n",
        "x[0, 0, 0], x[0][0][0]"
      ],
      "metadata": {
        "colab": {
          "base_uri": "https://localhost:8080/"
        },
        "id": "uF4xu_gMCIMN",
        "outputId": "ed3102a1-1c7b-4690-ce1c-0cd124c1a46f"
      },
      "execution_count": 45,
      "outputs": [
        {
          "output_type": "execute_result",
          "data": {
            "text/plain": [
              "(tensor(1), tensor(1))"
            ]
          },
          "metadata": {},
          "execution_count": 45
        }
      ]
    },
    {
      "cell_type": "code",
      "source": [
        "# : selects all elements of a target dimension\n",
        "x[:, 0]"
      ],
      "metadata": {
        "colab": {
          "base_uri": "https://localhost:8080/"
        },
        "id": "BEAkMykBIDrP",
        "outputId": "4accb1e4-7fd8-4898-ba00-905f0b549b24"
      },
      "execution_count": 46,
      "outputs": [
        {
          "output_type": "execute_result",
          "data": {
            "text/plain": [
              "tensor([[1, 2, 3]])"
            ]
          },
          "metadata": {},
          "execution_count": 46
        }
      ]
    },
    {
      "cell_type": "code",
      "source": [
        "# Get all values from 0th and 1st dimensions but only index 1 of 2nd dimension\n",
        "x[:, :, 2]"
      ],
      "metadata": {
        "colab": {
          "base_uri": "https://localhost:8080/"
        },
        "id": "vLX4_8yjIS4Q",
        "outputId": "3cbf111d-df2b-4df2-dc7b-a1d8338f6d98"
      },
      "execution_count": 47,
      "outputs": [
        {
          "output_type": "execute_result",
          "data": {
            "text/plain": [
              "tensor([[3, 6, 9]])"
            ]
          },
          "metadata": {},
          "execution_count": 47
        }
      ]
    },
    {
      "cell_type": "code",
      "source": [
        "# Get all values from 0th but only 1 from 1st and 2nd dimensions\n",
        "x[:, 1, 1]"
      ],
      "metadata": {
        "colab": {
          "base_uri": "https://localhost:8080/"
        },
        "id": "aLCaNy6RIoEi",
        "outputId": "79dd9230-f762-431c-fc69-16b6a8971278"
      },
      "execution_count": 48,
      "outputs": [
        {
          "output_type": "execute_result",
          "data": {
            "text/plain": [
              "tensor([5])"
            ]
          },
          "metadata": {},
          "execution_count": 48
        }
      ]
    },
    {
      "cell_type": "code",
      "source": [
        "# Get index 0 from 0th and 1st dimension and all values from 2nd\n",
        "x[0, 0, :]"
      ],
      "metadata": {
        "colab": {
          "base_uri": "https://localhost:8080/"
        },
        "id": "zJjouUrRIzWn",
        "outputId": "a65ae748-1b14-4242-e453-92976d7d07aa"
      },
      "execution_count": 49,
      "outputs": [
        {
          "output_type": "execute_result",
          "data": {
            "text/plain": [
              "tensor([1, 2, 3])"
            ]
          },
          "metadata": {},
          "execution_count": 49
        }
      ]
    },
    {
      "cell_type": "markdown",
      "source": [
        "## 8. PyTorch and NumPy"
      ],
      "metadata": {
        "id": "o2flUnGiVr_M"
      }
    },
    {
      "cell_type": "code",
      "source": [
        "import numpy as np\n",
        "\n",
        "# Numpy to tensor. When converting np to torch it conserves the original data type\n",
        "array = np.arange(1.0, 8.0)\n",
        "tensor = torch.from_numpy(array)\n",
        "array, tensor, array.dtype, tensor.dtype"
      ],
      "metadata": {
        "colab": {
          "base_uri": "https://localhost:8080/"
        },
        "id": "EKNIEueTWko0",
        "outputId": "8f29a241-ddbe-45bf-be1f-b98c152e0aea"
      },
      "execution_count": 50,
      "outputs": [
        {
          "output_type": "execute_result",
          "data": {
            "text/plain": [
              "(array([1., 2., 3., 4., 5., 6., 7.]),\n",
              " tensor([1., 2., 3., 4., 5., 6., 7.], dtype=torch.float64),\n",
              " dtype('float64'),\n",
              " torch.float64)"
            ]
          },
          "metadata": {},
          "execution_count": 50
        }
      ]
    },
    {
      "cell_type": "code",
      "source": [
        "# Tensor to NumPy\n",
        "tensor = torch.ones(7)\n",
        "numpy_tensor = tensor.numpy()\n",
        "tensor, numpy_tensor, tensor.dtype, numpy_tensor.dtype"
      ],
      "metadata": {
        "colab": {
          "base_uri": "https://localhost:8080/"
        },
        "id": "U0I9flpvWv-K",
        "outputId": "9610caa1-3dab-4304-a908-e8cecac76736"
      },
      "execution_count": 51,
      "outputs": [
        {
          "output_type": "execute_result",
          "data": {
            "text/plain": [
              "(tensor([1., 1., 1., 1., 1., 1., 1.]),\n",
              " array([1., 1., 1., 1., 1., 1., 1.], dtype=float32),\n",
              " torch.float32,\n",
              " dtype('float32'))"
            ]
          },
          "metadata": {},
          "execution_count": 51
        }
      ]
    },
    {
      "cell_type": "markdown",
      "source": [
        "## 9. Reproducibility"
      ],
      "metadata": {
        "id": "oWibRoBzXsBG"
      }
    },
    {
      "cell_type": "code",
      "source": [
        "# Random states does not allow for reproducibility as every iteration is different\n",
        "x = torch.rand(3, 4)\n",
        "y = torch.rand(3, 4)\n",
        "\n",
        "x, y, x == y"
      ],
      "metadata": {
        "colab": {
          "base_uri": "https://localhost:8080/"
        },
        "id": "qDpyjo_hYCOS",
        "outputId": "7c52814e-d663-4585-aea1-ede47bc4c1c6"
      },
      "execution_count": 52,
      "outputs": [
        {
          "output_type": "execute_result",
          "data": {
            "text/plain": [
              "(tensor([[0.6199, 0.0263, 0.6796, 0.1652],\n",
              "         [0.2348, 0.8342, 0.6652, 0.1693],\n",
              "         [0.0502, 0.9618, 0.6079, 0.3971]]),\n",
              " tensor([[0.3713, 0.8750, 0.9700, 0.1899],\n",
              "         [0.1864, 0.9221, 0.8250, 0.7473],\n",
              "         [0.4747, 0.8641, 0.5863, 0.4717]]),\n",
              " tensor([[False, False, False, False],\n",
              "         [False, False, False, False],\n",
              "         [False, False, False, False]]))"
            ]
          },
          "metadata": {},
          "execution_count": 52
        }
      ]
    },
    {
      "cell_type": "code",
      "source": [
        "# Set a random seed\n",
        "RANDOM_SEED = 42\n",
        "torch.manual_seed(RANDOM_SEED)\n",
        "\n",
        "x = torch.rand(3, 4)\n",
        "y = torch.rand(3, 4)\n",
        "x, y, x == y"
      ],
      "metadata": {
        "colab": {
          "base_uri": "https://localhost:8080/"
        },
        "id": "hSUehxLKaVGl",
        "outputId": "9d2c3f07-45fb-45c5-d133-d9d678eae2ca"
      },
      "execution_count": 53,
      "outputs": [
        {
          "output_type": "execute_result",
          "data": {
            "text/plain": [
              "(tensor([[0.8823, 0.9150, 0.3829, 0.9593],\n",
              "         [0.3904, 0.6009, 0.2566, 0.7936],\n",
              "         [0.9408, 0.1332, 0.9346, 0.5936]]),\n",
              " tensor([[0.8694, 0.5677, 0.7411, 0.4294],\n",
              "         [0.8854, 0.5739, 0.2666, 0.6274],\n",
              "         [0.2696, 0.4414, 0.2969, 0.8317]]),\n",
              " tensor([[False, False, False, False],\n",
              "         [False, False, False, False],\n",
              "         [False, False, False, False]]))"
            ]
          },
          "metadata": {},
          "execution_count": 53
        }
      ]
    },
    {
      "cell_type": "code",
      "source": [
        "# Set a random seed. Manual seed only works per code block\n",
        "RANDOM_SEED = 42\n",
        "torch.manual_seed(RANDOM_SEED)\n",
        "\n",
        "x = torch.rand(3, 4)\n",
        "torch.manual_seed(RANDOM_SEED)\n",
        "y = torch.rand(3, 4)\n",
        "x, y, x == y"
      ],
      "metadata": {
        "colab": {
          "base_uri": "https://localhost:8080/"
        },
        "id": "vWF2EiNcb5LA",
        "outputId": "a60c3e50-463e-4110-d493-e51e1e7b4857"
      },
      "execution_count": 54,
      "outputs": [
        {
          "output_type": "execute_result",
          "data": {
            "text/plain": [
              "(tensor([[0.8823, 0.9150, 0.3829, 0.9593],\n",
              "         [0.3904, 0.6009, 0.2566, 0.7936],\n",
              "         [0.9408, 0.1332, 0.9346, 0.5936]]),\n",
              " tensor([[0.8823, 0.9150, 0.3829, 0.9593],\n",
              "         [0.3904, 0.6009, 0.2566, 0.7936],\n",
              "         [0.9408, 0.1332, 0.9346, 0.5936]]),\n",
              " tensor([[True, True, True, True],\n",
              "         [True, True, True, True],\n",
              "         [True, True, True, True]]))"
            ]
          },
          "metadata": {},
          "execution_count": 54
        }
      ]
    },
    {
      "cell_type": "markdown",
      "source": [
        "## 10. Running Tensor on GPU"
      ],
      "metadata": {
        "id": "kolUHAZso0bA"
      }
    },
    {
      "cell_type": "code",
      "source": [
        "!nvidia-smi"
      ],
      "metadata": {
        "colab": {
          "base_uri": "https://localhost:8080/"
        },
        "id": "kr65InuXo-i2",
        "outputId": "ae23a130-4b3e-45ff-c889-921404fe4c38"
      },
      "execution_count": 55,
      "outputs": [
        {
          "output_type": "stream",
          "name": "stdout",
          "text": [
            "Mon Aug 28 15:12:07 2023       \n",
            "+-----------------------------------------------------------------------------+\n",
            "| NVIDIA-SMI 525.105.17   Driver Version: 525.105.17   CUDA Version: 12.0     |\n",
            "|-------------------------------+----------------------+----------------------+\n",
            "| GPU  Name        Persistence-M| Bus-Id        Disp.A | Volatile Uncorr. ECC |\n",
            "| Fan  Temp  Perf  Pwr:Usage/Cap|         Memory-Usage | GPU-Util  Compute M. |\n",
            "|                               |                      |               MIG M. |\n",
            "|===============================+======================+======================|\n",
            "|   0  Tesla T4            Off  | 00000000:00:04.0 Off |                    0 |\n",
            "| N/A   62C    P8    11W /  70W |      0MiB / 15360MiB |      0%      Default |\n",
            "|                               |                      |                  N/A |\n",
            "+-------------------------------+----------------------+----------------------+\n",
            "                                                                               \n",
            "+-----------------------------------------------------------------------------+\n",
            "| Processes:                                                                  |\n",
            "|  GPU   GI   CI        PID   Type   Process name                  GPU Memory |\n",
            "|        ID   ID                                                   Usage      |\n",
            "|=============================================================================|\n",
            "|  No running processes found                                                 |\n",
            "+-----------------------------------------------------------------------------+\n"
          ]
        }
      ]
    },
    {
      "cell_type": "code",
      "source": [
        "# Check for GPU access\n",
        "torch.cuda.is_available()"
      ],
      "metadata": {
        "colab": {
          "base_uri": "https://localhost:8080/"
        },
        "id": "32bU_uNPrBJB",
        "outputId": "1c417ce5-b5cb-4d57-de80-cb18125a230c"
      },
      "execution_count": 56,
      "outputs": [
        {
          "output_type": "execute_result",
          "data": {
            "text/plain": [
              "True"
            ]
          },
          "metadata": {},
          "execution_count": 56
        }
      ]
    },
    {
      "cell_type": "code",
      "source": [
        "# Setup device agnostig code (CUDA best practices with PyTorch)\n",
        "device = \"cuda\" if torch.cuda.is_available() else \"cpu\"\n",
        "device"
      ],
      "metadata": {
        "colab": {
          "base_uri": "https://localhost:8080/",
          "height": 0
        },
        "id": "JpzL6KMZrOAW",
        "outputId": "3d33c0a0-46d1-490c-b629-a5b17c4847af"
      },
      "execution_count": 57,
      "outputs": [
        {
          "output_type": "execute_result",
          "data": {
            "text/plain": [
              "'cuda'"
            ],
            "application/vnd.google.colaboratory.intrinsic+json": {
              "type": "string"
            }
          },
          "metadata": {},
          "execution_count": 57
        }
      ]
    },
    {
      "cell_type": "code",
      "source": [
        "# Count number of devices\n",
        "torch.cuda.device_count()"
      ],
      "metadata": {
        "colab": {
          "base_uri": "https://localhost:8080/"
        },
        "id": "dogPIRRirY5A",
        "outputId": "ede0822b-aada-4a04-d5b3-839cd781fc98"
      },
      "execution_count": 58,
      "outputs": [
        {
          "output_type": "execute_result",
          "data": {
            "text/plain": [
              "1"
            ]
          },
          "metadata": {},
          "execution_count": 58
        }
      ]
    },
    {
      "cell_type": "code",
      "source": [
        "# Tensor not on GPU\n",
        "x = torch.tensor([1, 2, 3])\n",
        "x, x.device"
      ],
      "metadata": {
        "colab": {
          "base_uri": "https://localhost:8080/"
        },
        "id": "5cV8GWunr_b9",
        "outputId": "14d5a307-0a3c-490c-c86b-b7c187b05645"
      },
      "execution_count": 59,
      "outputs": [
        {
          "output_type": "execute_result",
          "data": {
            "text/plain": [
              "(tensor([1, 2, 3]), device(type='cpu'))"
            ]
          },
          "metadata": {},
          "execution_count": 59
        }
      ]
    },
    {
      "cell_type": "code",
      "source": [
        "# Move tensor to GPU if available\n",
        "y = x.to(device)\n",
        "y, y.device"
      ],
      "metadata": {
        "colab": {
          "base_uri": "https://localhost:8080/"
        },
        "id": "KkS9ttg8sW02",
        "outputId": "0f00f557-af1d-4c8b-9fc4-d84143d9a78b"
      },
      "execution_count": 60,
      "outputs": [
        {
          "output_type": "execute_result",
          "data": {
            "text/plain": [
              "(tensor([1, 2, 3], device='cuda:0'), device(type='cuda', index=0))"
            ]
          },
          "metadata": {},
          "execution_count": 60
        }
      ]
    },
    {
      "cell_type": "code",
      "source": [
        "# Try to convert GPU tensor in Numpy\n",
        "try:\n",
        "  y.numpy()\n",
        "except Exception as e:\n",
        "  print(e)"
      ],
      "metadata": {
        "colab": {
          "base_uri": "https://localhost:8080/"
        },
        "id": "Sj39zop-tBPL",
        "outputId": "481c1e95-8300-4011-a746-1f0f28ff7059"
      },
      "execution_count": 61,
      "outputs": [
        {
          "output_type": "stream",
          "name": "stdout",
          "text": [
            "can't convert cuda:0 device type tensor to numpy. Use Tensor.cpu() to copy the tensor to host memory first.\n"
          ]
        }
      ]
    },
    {
      "cell_type": "code",
      "source": [
        "# Return tensor to CPU\n",
        "z = y.cpu()\n",
        "w = z.numpy()\n",
        "z, z.device, w"
      ],
      "metadata": {
        "colab": {
          "base_uri": "https://localhost:8080/"
        },
        "id": "uMKqaFPSs38_",
        "outputId": "052a5dc9-544e-4adb-868c-452d55d479fa"
      },
      "execution_count": 62,
      "outputs": [
        {
          "output_type": "execute_result",
          "data": {
            "text/plain": [
              "(tensor([1, 2, 3]), device(type='cpu'), array([1, 2, 3]))"
            ]
          },
          "metadata": {},
          "execution_count": 62
        }
      ]
    }
  ]
}